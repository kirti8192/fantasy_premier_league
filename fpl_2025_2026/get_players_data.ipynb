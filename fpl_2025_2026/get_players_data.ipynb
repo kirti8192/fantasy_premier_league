{
 "cells": [
  {
   "cell_type": "code",
   "execution_count": 1,
   "metadata": {},
   "outputs": [
    {
     "name": "stderr",
     "output_type": "stream",
     "text": [
      "/Users/kirti8192/Library/Python/3.9/lib/python/site-packages/urllib3/__init__.py:35: NotOpenSSLWarning: urllib3 v2 only supports OpenSSL 1.1.1+, currently the 'ssl' module is compiled with 'LibreSSL 2.8.3'. See: https://github.com/urllib3/urllib3/issues/3020\n",
      "  warnings.warn(\n"
     ]
    }
   ],
   "source": [
    "import json, pathlib, requests, pandas as pd\n",
    "\n",
    "OUT = pathlib.Path(\"fpl_data\")\n",
    "OUT.mkdir(exist_ok=True)\n",
    "\n",
    "# Endpoints (Classic + Draft)\n",
    "CLASSIC_BOOTSTRAP = \"https://fantasy.premierleague.com/api/bootstrap-static/\"\n",
    "DRAFT_BOOTSTRAP   = \"https://draft.premierleague.com/api/bootstrap-static\"\n",
    "DRAFT_DYNAMIC     = \"https://draft.premierleague.com/api/bootstrap-dynamic\""
   ]
  },
  {
   "cell_type": "code",
   "execution_count": 2,
   "metadata": {},
   "outputs": [],
   "source": [
    "\n",
    "\n",
    "def fetch_json(url):\n",
    "    r = requests.get(url, timeout=30)\n",
    "    r.raise_for_status()\n",
    "    return r.json()\n"
   ]
  },
  {
   "cell_type": "code",
   "execution_count": 3,
   "metadata": {},
   "outputs": [],
   "source": [
    "\n",
    "def write_json(obj, path):\n",
    "    path.write_text(json.dumps(obj, indent=2))\n"
   ]
  },
  {
   "cell_type": "code",
   "execution_count": 4,
   "metadata": {},
   "outputs": [],
   "source": [
    "\n",
    "def classic_elements_to_csv(data, path_csv):\n",
    "    el = pd.DataFrame(data[\"elements\"])\n",
    "    teams = pd.DataFrame(data[\"teams\"])[[\"id\",\"name\"]].rename(columns={\"id\":\"team_id\",\"name\":\"team_name\"})\n",
    "    pos = pd.DataFrame(data[\"element_types\"])[[\"id\",\"singular_name_short\"]].rename(columns={\"id\":\"element_type\",\"singular_name_short\":\"pos\"})\n",
    "    el = el.merge(teams, left_on=\"team\", right_on=\"team_id\", how=\"left\")\n",
    "    el = el.merge(pos, left_on=\"element_type\", right_on=\"element_type\", how=\"left\")\n",
    "    # keep a useful subset\n",
    "    keep_cols = [\n",
    "        \"id\",\"first_name\",\"second_name\",\"web_name\",\"team_name\",\"pos\",\n",
    "        \"now_cost\",\"selected_by_percent\",\"status\",\"chance_of_playing_next_round\",\n",
    "        \"total_points\",\"minutes\",\"goals_scored\",\"assists\",\"clean_sheets\",\n",
    "        \"creativity\",\"influence\",\"threat\",\"ict_index\"\n",
    "    ]\n",
    "    el[keep_cols].to_csv(path_csv, index=False)\n"
   ]
  },
  {
   "cell_type": "code",
   "execution_count": 5,
   "metadata": {},
   "outputs": [],
   "source": [
    "\n",
    "def draft_elements_to_csv(static_data, dynamic_data, path_csv):\n",
    "    # Draft endpoints also have 'elements'\n",
    "    el = pd.DataFrame(static_data[\"elements\"])\n",
    "    # dynamic contains live availability / statuses\n",
    "    # (merge on 'id' if you want additional fields)\n",
    "    el.to_csv(path_csv, index=False)\n"
   ]
  },
  {
   "cell_type": "code",
   "execution_count": 6,
   "metadata": {},
   "outputs": [],
   "source": [
    "\n",
    "# Classic\n",
    "classic = fetch_json(CLASSIC_BOOTSTRAP)\n"
   ]
  },
  {
   "cell_type": "code",
   "execution_count": 7,
   "metadata": {},
   "outputs": [],
   "source": [
    "write_json(classic, OUT/\"classic_bootstrap.json\")\n"
   ]
  },
  {
   "cell_type": "code",
   "execution_count": 8,
   "metadata": {},
   "outputs": [],
   "source": [
    "classic_elements_to_csv(classic, OUT/\"classic_players.csv\")\n"
   ]
  },
  {
   "cell_type": "code",
   "execution_count": 10,
   "metadata": {},
   "outputs": [],
   "source": [
    "# Draft\n",
    "draft_static  = fetch_json(DRAFT_BOOTSTRAP)"
   ]
  },
  {
   "cell_type": "code",
   "execution_count": 11,
   "metadata": {},
   "outputs": [],
   "source": [
    "draft_dynamic = fetch_json(DRAFT_DYNAMIC)"
   ]
  },
  {
   "cell_type": "code",
   "execution_count": 12,
   "metadata": {},
   "outputs": [],
   "source": [
    "write_json(draft_static,  OUT/\"draft_bootstrap.json\")\n",
    "write_json(draft_dynamic, OUT/\"draft_dynamic.json\")"
   ]
  },
  {
   "cell_type": "code",
   "execution_count": 13,
   "metadata": {},
   "outputs": [],
   "source": [
    "draft_elements_to_csv(draft_static, draft_dynamic, OUT/\"draft_players_raw.csv\")"
   ]
  },
  {
   "cell_type": "code",
   "execution_count": 14,
   "metadata": {},
   "outputs": [
    {
     "name": "stdout",
     "output_type": "stream",
     "text": [
      "Saved:\n",
      " - fpl_data/classic_players.csv\n",
      " - fpl_data/draft_dynamic.json\n",
      " - fpl_data/draft_players_raw.csv\n",
      " - fpl_data/classic_bootstrap.json\n",
      " - fpl_data/draft_bootstrap.json\n"
     ]
    }
   ],
   "source": [
    "print(\"Saved:\")\n",
    "for p in OUT.iterdir():\n",
    "    print(\" -\", p)"
   ]
  },
  {
   "cell_type": "code",
   "execution_count": null,
   "metadata": {},
   "outputs": [],
   "source": []
  }
 ],
 "metadata": {
  "kernelspec": {
   "display_name": "Python 3",
   "language": "python",
   "name": "python3"
  },
  "language_info": {
   "codemirror_mode": {
    "name": "ipython",
    "version": 3
   },
   "file_extension": ".py",
   "mimetype": "text/x-python",
   "name": "python",
   "nbconvert_exporter": "python",
   "pygments_lexer": "ipython3",
   "version": "3.9.6"
  }
 },
 "nbformat": 4,
 "nbformat_minor": 2
}
